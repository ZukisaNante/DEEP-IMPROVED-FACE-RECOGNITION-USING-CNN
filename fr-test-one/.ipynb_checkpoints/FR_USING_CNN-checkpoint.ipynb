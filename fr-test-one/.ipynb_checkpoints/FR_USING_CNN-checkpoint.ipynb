{
 "cells": [
  {
   "cell_type": "markdown",
   "metadata": {},
   "source": [
    "STEP-ONE: IMPORT LIBRARIES"
   ]
  },
  {
   "cell_type": "code",
   "execution_count": 40,
   "metadata": {},
   "outputs": [],
   "source": [
    "import keras\n",
    "from keras.models import Sequential\n",
    "from keras.layers import Conv2D, MaxPooling2D, Dense, Flatten, Dropout\n",
    "from keras.optimizers import Adam\n",
    "from keras.callbacks import TensorBoard\n",
    "\n",
    "import numpy as np\n",
    "import pandas as pd\n",
    "import matplotlib.pyplot as plt\n",
    "from sklearn.model_selection import train_test_split\n",
    "\n",
    "from sklearn.metrics import confusion_matrix\n",
    "from sklearn.metrics import classification_report\n",
    "from sklearn.metrics import roc_curve, auc\n",
    "from sklearn.metrics import accuracy_score\n",
    "from keras.utils import np_utils\n",
    "import itertools"
   ]
  },
  {
   "cell_type": "markdown",
   "metadata": {},
   "source": [
    "STEP-TWO: LOAD DATASET"
   ]
  },
  {
   "cell_type": "code",
   "execution_count": 41,
   "metadata": {},
   "outputs": [
    {
     "name": "stdout",
     "output_type": "stream",
     "text": [
      "x_train : [[0.1882353  0.19215687 0.1764706  ... 0.18431373 0.18039216 0.18039216]\n",
      " [0.23529412 0.23529412 0.24313726 ... 0.1254902  0.13333334 0.13333334]\n",
      " [0.15294118 0.17254902 0.20784314 ... 0.11372549 0.10196079 0.11372549]\n",
      " ...\n",
      " [0.44705883 0.45882353 0.44705883 ... 0.38431373 0.3764706  0.38431373]\n",
      " [0.4117647  0.4117647  0.41960785 ... 0.21176471 0.18431373 0.16078432]\n",
      " [0.45490196 0.44705883 0.45882353 ... 0.37254903 0.39215687 0.39607844]]\n",
      "Y-train shape: [ 0  0  0  0  0  0  0  0  0  0  0  0  1  1  1  1  1  1  1  1  1  1  1  1\n",
      "  2  2  2  2  2  2  2  2  2  2  2  2  3  3  3  3  3  3  3  3  3  3  3  3\n",
      "  4  4  4  4  4  4  4  4  4  4  4  4  5  5  5  5  5  5  5  5  5  5  5  5\n",
      "  6  6  6  6  6  6  6  6  6  6  6  6  7  7  7  7  7  7  7  7  7  7  7  7\n",
      "  8  8  8  8  8  8  8  8  8  8  8  8  9  9  9  9  9  9  9  9  9  9  9  9\n",
      " 10 10 10 10 10 10 10 10 10 10 10 10 11 11 11 11 11 11 11 11 11 11 11 11\n",
      " 12 12 12 12 12 12 12 12 12 12 12 12 13 13 13 13 13 13 13 13 13 13 13 13\n",
      " 14 14 14 14 14 14 14 14 14 14 14 14 15 15 15 15 15 15 15 15 15 15 15 15\n",
      " 16 16 16 16 16 16 16 16 16 16 16 16 17 17 17 17 17 17 17 17 17 17 17 17\n",
      " 18 18 18 18 18 18 18 18 18 18 18 18 19 19 19 19 19 19 19 19 19 19 19 19]\n"
     ]
    }
   ],
   "source": [
    "#load dataset\n",
    "data = np.load('../ORL_faces.npz') \n",
    "\n",
    "# load the \"Train Images\"\n",
    "x_train = data['trainX']\n",
    "#normalize every image\n",
    "x_train = np.array(x_train,dtype='float32')/255\n",
    "\n",
    "x_test = data['testX']\n",
    "x_test = np.array(x_test,dtype='float32')/255\n",
    "\n",
    "# load the Label of Images\n",
    "y_train= data['trainY']\n",
    "y_test= data['testY']\n",
    "\n",
    "# show the train and test Data format\n",
    "print('x_train : {}'.format(x_train[:]))\n",
    "print('Y-train shape: {}'.format(y_train))"
   ]
  },
  {
   "cell_type": "markdown",
   "metadata": {},
   "source": [
    "STEP-THREE: DATA VALIDATION AND TRAINING"
   ]
  },
  {
   "cell_type": "code",
   "execution_count": 42,
   "metadata": {},
   "outputs": [],
   "source": [
    "x_train, x_valid, y_train, y_valid= train_test_split(\n",
    "    x_train, y_train, test_size=.05, random_state=1234,)"
   ]
  },
  {
   "cell_type": "markdown",
   "metadata": {},
   "source": [
    "STEP-FOUR: CHANGE IMAGE SIZE FOR CNN"
   ]
  },
  {
   "cell_type": "code",
   "execution_count": 43,
   "metadata": {},
   "outputs": [
    {
     "name": "stdout",
     "output_type": "stream",
     "text": [
      "x_train shape: 228\n",
      "x_test shape: (160,)\n"
     ]
    }
   ],
   "source": [
    "im_rows=112\n",
    "im_cols=92\n",
    "batch_size=512\n",
    "im_shape=(im_rows, im_cols, 1)\n",
    "\n",
    "#change the size of images\n",
    "x_train = x_train.reshape(x_train.shape[0], *im_shape)\n",
    "x_test = x_test.reshape(x_test.shape[0], *im_shape)\n",
    "x_valid = x_valid.reshape(x_valid.shape[0], *im_shape)\n",
    "\n",
    "print('x_train shape: {}'.format(y_train.shape[0]))\n",
    "print('x_test shape: {}'.format(y_test.shape))"
   ]
  },
  {
   "cell_type": "markdown",
   "metadata": {},
   "source": [
    "STEP-FIVE: BUILD CNN"
   ]
  },
  {
   "cell_type": "code",
   "execution_count": 44,
   "metadata": {},
   "outputs": [],
   "source": [
    "\n",
    "#filters= the depth of output image or kernels\n",
    "\n",
    "cnn_model= Sequential([\n",
    "    Conv2D(filters=16, kernel_size=(3, 3), activation='relu', padding='same', input_shape= im_shape),\n",
    "    Conv2D(filters=16, kernel_size=(3, 3), activation='relu', padding='same'),\n",
    "    MaxPooling2D(pool_size=(2, 2), strides=(2, 2)),\n",
    "    \n",
    "    Conv2D(filters=32, kernel_size=(3, 3), activation='relu', padding='same'),\n",
    "    Conv2D(filters=32, kernel_size=(3, 3), activation='relu', padding='same'),\n",
    "    MaxPooling2D(pool_size=(2, 2), strides=(2, 2)),\n",
    "    \n",
    "    Conv2D(filters=64, kernel_size=(3, 3), activation='relu', padding='same'),\n",
    "    Conv2D(filters=64, kernel_size=(3, 3), activation='relu', padding='same'),\n",
    "    MaxPooling2D(pool_size=(2, 2), strides=(2, 2)),\n",
    "    \n",
    "    Conv2D(filters=128, kernel_size=(3, 3), activation='relu', padding='same'),\n",
    "    Conv2D(filters=128, kernel_size=(3, 3), activation='relu', padding='same'),\n",
    "    MaxPooling2D(pool_size=(2, 2), strides=(2, 2)),\n",
    "    \n",
    "    Flatten(),\n",
    "    Dropout(0.5),\n",
    "    Dense(2024, activation='relu'),\n",
    "    Dense(2024, activation='relu'),\n",
    "    Dropout(0.5),\n",
    "    Dense(1024, activation='relu'),\n",
    "    Dropout(0.5),\n",
    "    Dense(512, activation='relu'),\n",
    "    Dropout(0.5),\n",
    "    #20 is the number of outputs\n",
    "    Dense(20, activation='softmax')  \n",
    "])\n",
    "\n",
    "# cnn_model= Sequential([\n",
    "#     Conv2D(filters=36, kernel_size=7, activation='relu', input_shape= im_shape),\n",
    "#     MaxPooling2D(pool_size=2),\n",
    "#     Conv2D(filters=54, kernel_size=5, activation='relu', input_shape= im_shape),\n",
    "#     MaxPooling2D(pool_size=2),\n",
    "#     Flatten(),\n",
    "#     Dense(2024, activation='relu'),\n",
    "#      Dropout(0.5),\n",
    "#     Dense(1024, activation='relu'),\n",
    "#     Dropout(0.5),\n",
    "#     Dense(512, activation='relu'),\n",
    "#     Dropout(0.5),\n",
    "#     #20 is the number of outputs\n",
    "#     Dense(20, activation='softmax')  \n",
    "# ])\n",
    "\n",
    "cnn_model.compile(\n",
    "    loss='sparse_categorical_crossentropy',#'categorical_crossentropy',\n",
    "    optimizer=Adam(lr=0.0001),\n",
    "    metrics=['accuracy']\n",
    ")"
   ]
  },
  {
   "cell_type": "code",
   "execution_count": 45,
   "metadata": {},
   "outputs": [
    {
     "name": "stdout",
     "output_type": "stream",
     "text": [
      "Model: \"sequential_4\"\n",
      "_________________________________________________________________\n",
      "Layer (type)                 Output Shape              Param #   \n",
      "=================================================================\n",
      "conv2d_12 (Conv2D)           (None, 106, 86, 36)       1800      \n",
      "_________________________________________________________________\n",
      "max_pooling2d_9 (MaxPooling2 (None, 53, 43, 36)        0         \n",
      "_________________________________________________________________\n",
      "conv2d_13 (Conv2D)           (None, 49, 39, 54)        48654     \n",
      "_________________________________________________________________\n",
      "max_pooling2d_10 (MaxPooling (None, 24, 19, 54)        0         \n",
      "_________________________________________________________________\n",
      "flatten_4 (Flatten)          (None, 24624)             0         \n",
      "_________________________________________________________________\n",
      "dense_16 (Dense)             (None, 2024)              49841000  \n",
      "_________________________________________________________________\n",
      "dropout_12 (Dropout)         (None, 2024)              0         \n",
      "_________________________________________________________________\n",
      "dense_17 (Dense)             (None, 1024)              2073600   \n",
      "_________________________________________________________________\n",
      "dropout_13 (Dropout)         (None, 1024)              0         \n",
      "_________________________________________________________________\n",
      "dense_18 (Dense)             (None, 512)               524800    \n",
      "_________________________________________________________________\n",
      "dropout_14 (Dropout)         (None, 512)               0         \n",
      "_________________________________________________________________\n",
      "dense_19 (Dense)             (None, 20)                10260     \n",
      "=================================================================\n",
      "Total params: 52,500,114\n",
      "Trainable params: 52,500,114\n",
      "Non-trainable params: 0\n",
      "_________________________________________________________________\n"
     ]
    }
   ],
   "source": [
    "# show the CNN model\n",
    "cnn_model.summary()"
   ]
  },
  {
   "cell_type": "markdown",
   "metadata": {},
   "source": [
    "STEP-SIX: TRAIN THE MODEL"
   ]
  },
  {
   "cell_type": "code",
   "execution_count": 46,
   "metadata": {},
   "outputs": [
    {
     "name": "stdout",
     "output_type": "stream",
     "text": [
      "Epoch 1/100\n",
      "1/1 - 0s - loss: 3.0252 - accuracy: 0.0482 - val_loss: 2.9967 - val_accuracy: 0.0833\n",
      "Epoch 2/100\n",
      "1/1 - 0s - loss: 3.0104 - accuracy: 0.0570 - val_loss: 2.9897 - val_accuracy: 0.0833\n",
      "Epoch 3/100\n",
      "1/1 - 0s - loss: 3.0091 - accuracy: 0.0702 - val_loss: 2.9886 - val_accuracy: 0.1667\n",
      "Epoch 4/100\n",
      "1/1 - 0s - loss: 3.0073 - accuracy: 0.0614 - val_loss: 2.9918 - val_accuracy: 0.0000e+00\n",
      "Epoch 5/100\n",
      "1/1 - 0s - loss: 3.0043 - accuracy: 0.0614 - val_loss: 2.9942 - val_accuracy: 0.0000e+00\n",
      "Epoch 6/100\n",
      "1/1 - 0s - loss: 3.0028 - accuracy: 0.0526 - val_loss: 2.9973 - val_accuracy: 0.1667\n",
      "Epoch 7/100\n",
      "1/1 - 0s - loss: 2.9883 - accuracy: 0.0526 - val_loss: 2.9993 - val_accuracy: 0.0833\n",
      "Epoch 8/100\n",
      "1/1 - 0s - loss: 2.9745 - accuracy: 0.0789 - val_loss: 3.0002 - val_accuracy: 0.0833\n",
      "Epoch 9/100\n",
      "1/1 - 0s - loss: 2.9580 - accuracy: 0.0702 - val_loss: 3.0011 - val_accuracy: 0.0000e+00\n",
      "Epoch 10/100\n",
      "1/1 - 0s - loss: 2.9827 - accuracy: 0.0746 - val_loss: 3.0025 - val_accuracy: 0.0000e+00\n",
      "Epoch 11/100\n",
      "1/1 - 0s - loss: 2.9781 - accuracy: 0.0570 - val_loss: 3.0017 - val_accuracy: 0.0000e+00\n",
      "Epoch 12/100\n",
      "1/1 - 0s - loss: 2.9890 - accuracy: 0.0921 - val_loss: 2.9992 - val_accuracy: 0.0000e+00\n",
      "Epoch 13/100\n",
      "1/1 - 0s - loss: 2.9585 - accuracy: 0.0833 - val_loss: 2.9977 - val_accuracy: 0.0000e+00\n",
      "Epoch 14/100\n",
      "1/1 - 0s - loss: 2.9721 - accuracy: 0.1009 - val_loss: 2.9971 - val_accuracy: 0.0000e+00\n",
      "Epoch 15/100\n",
      "1/1 - 0s - loss: 2.9834 - accuracy: 0.0877 - val_loss: 2.9957 - val_accuracy: 0.0000e+00\n",
      "Epoch 16/100\n",
      "1/1 - 0s - loss: 2.9637 - accuracy: 0.0658 - val_loss: 2.9921 - val_accuracy: 0.0000e+00\n",
      "Epoch 17/100\n",
      "1/1 - 0s - loss: 2.9585 - accuracy: 0.0921 - val_loss: 2.9857 - val_accuracy: 0.0000e+00\n",
      "Epoch 18/100\n",
      "1/1 - 0s - loss: 2.9356 - accuracy: 0.0833 - val_loss: 2.9775 - val_accuracy: 0.0000e+00\n",
      "Epoch 19/100\n",
      "1/1 - 0s - loss: 2.9287 - accuracy: 0.1009 - val_loss: 2.9687 - val_accuracy: 0.0000e+00\n",
      "Epoch 20/100\n",
      "1/1 - 0s - loss: 2.9176 - accuracy: 0.1535 - val_loss: 2.9606 - val_accuracy: 0.0000e+00\n",
      "Epoch 21/100\n",
      "1/1 - 0s - loss: 2.9139 - accuracy: 0.1667 - val_loss: 2.9556 - val_accuracy: 0.0000e+00\n",
      "Epoch 22/100\n",
      "1/1 - 0s - loss: 2.9315 - accuracy: 0.1009 - val_loss: 2.9500 - val_accuracy: 0.0000e+00\n",
      "Epoch 23/100\n",
      "1/1 - 0s - loss: 2.9194 - accuracy: 0.1096 - val_loss: 2.9453 - val_accuracy: 0.0000e+00\n",
      "Epoch 24/100\n",
      "1/1 - 0s - loss: 2.9074 - accuracy: 0.1228 - val_loss: 2.9410 - val_accuracy: 0.0000e+00\n",
      "Epoch 25/100\n",
      "1/1 - 0s - loss: 2.8781 - accuracy: 0.1623 - val_loss: 2.9387 - val_accuracy: 0.0000e+00\n",
      "Epoch 26/100\n",
      "1/1 - 0s - loss: 2.9033 - accuracy: 0.1009 - val_loss: 2.9334 - val_accuracy: 0.0000e+00\n",
      "Epoch 27/100\n",
      "1/1 - 0s - loss: 2.8711 - accuracy: 0.1754 - val_loss: 2.9219 - val_accuracy: 0.0833\n",
      "Epoch 28/100\n",
      "1/1 - 0s - loss: 2.8700 - accuracy: 0.1404 - val_loss: 2.9081 - val_accuracy: 0.0833\n",
      "Epoch 29/100\n",
      "1/1 - 0s - loss: 2.8398 - accuracy: 0.2018 - val_loss: 2.8934 - val_accuracy: 0.0833\n",
      "Epoch 30/100\n",
      "1/1 - 0s - loss: 2.8118 - accuracy: 0.1754 - val_loss: 2.8766 - val_accuracy: 0.0833\n",
      "Epoch 31/100\n",
      "1/1 - 0s - loss: 2.7930 - accuracy: 0.2018 - val_loss: 2.8576 - val_accuracy: 0.0833\n",
      "Epoch 32/100\n",
      "1/1 - 0s - loss: 2.7812 - accuracy: 0.1667 - val_loss: 2.8363 - val_accuracy: 0.1667\n",
      "Epoch 33/100\n",
      "1/1 - 0s - loss: 2.7854 - accuracy: 0.1842 - val_loss: 2.8097 - val_accuracy: 0.2500\n",
      "Epoch 34/100\n",
      "1/1 - 0s - loss: 2.7370 - accuracy: 0.2237 - val_loss: 2.7759 - val_accuracy: 0.2500\n",
      "Epoch 35/100\n",
      "1/1 - 0s - loss: 2.7774 - accuracy: 0.2105 - val_loss: 2.7433 - val_accuracy: 0.3333\n",
      "Epoch 36/100\n",
      "1/1 - 0s - loss: 2.7036 - accuracy: 0.2412 - val_loss: 2.7039 - val_accuracy: 0.3333\n",
      "Epoch 37/100\n",
      "1/1 - 0s - loss: 2.6239 - accuracy: 0.2939 - val_loss: 2.6621 - val_accuracy: 0.3333\n",
      "Epoch 38/100\n",
      "1/1 - 0s - loss: 2.6862 - accuracy: 0.2325 - val_loss: 2.6186 - val_accuracy: 0.4167\n",
      "Epoch 39/100\n",
      "1/1 - 0s - loss: 2.6137 - accuracy: 0.2412 - val_loss: 2.5763 - val_accuracy: 0.5000\n",
      "Epoch 40/100\n",
      "1/1 - 0s - loss: 2.6162 - accuracy: 0.2544 - val_loss: 2.5343 - val_accuracy: 0.5000\n",
      "Epoch 41/100\n",
      "1/1 - 0s - loss: 2.6003 - accuracy: 0.2544 - val_loss: 2.4926 - val_accuracy: 0.5000\n",
      "Epoch 42/100\n",
      "1/1 - 0s - loss: 2.4814 - accuracy: 0.2982 - val_loss: 2.4408 - val_accuracy: 0.5000\n",
      "Epoch 43/100\n",
      "1/1 - 0s - loss: 2.4749 - accuracy: 0.2895 - val_loss: 2.3895 - val_accuracy: 0.5000\n",
      "Epoch 44/100\n",
      "1/1 - 0s - loss: 2.3771 - accuracy: 0.3860 - val_loss: 2.3373 - val_accuracy: 0.4167\n",
      "Epoch 45/100\n",
      "1/1 - 0s - loss: 2.3591 - accuracy: 0.3684 - val_loss: 2.2789 - val_accuracy: 0.5833\n",
      "Epoch 46/100\n",
      "1/1 - 0s - loss: 2.2757 - accuracy: 0.3772 - val_loss: 2.2156 - val_accuracy: 0.5833\n",
      "Epoch 47/100\n",
      "1/1 - 0s - loss: 2.2486 - accuracy: 0.3509 - val_loss: 2.1494 - val_accuracy: 0.6667\n",
      "Epoch 48/100\n",
      "1/1 - 0s - loss: 2.1943 - accuracy: 0.4035 - val_loss: 2.0810 - val_accuracy: 0.7500\n",
      "Epoch 49/100\n",
      "1/1 - 0s - loss: 2.1496 - accuracy: 0.3947 - val_loss: 2.0082 - val_accuracy: 0.7500\n",
      "Epoch 50/100\n",
      "1/1 - 0s - loss: 2.1075 - accuracy: 0.4605 - val_loss: 1.9236 - val_accuracy: 0.7500\n",
      "Epoch 51/100\n",
      "1/1 - 0s - loss: 1.9834 - accuracy: 0.4474 - val_loss: 1.8427 - val_accuracy: 0.8333\n",
      "Epoch 52/100\n",
      "1/1 - 0s - loss: 1.9516 - accuracy: 0.4211 - val_loss: 1.7628 - val_accuracy: 0.8333\n",
      "Epoch 53/100\n",
      "1/1 - 0s - loss: 1.8885 - accuracy: 0.4693 - val_loss: 1.6755 - val_accuracy: 0.9167\n",
      "Epoch 54/100\n",
      "1/1 - 0s - loss: 1.8830 - accuracy: 0.4474 - val_loss: 1.5865 - val_accuracy: 0.9167\n",
      "Epoch 55/100\n",
      "1/1 - 0s - loss: 1.8545 - accuracy: 0.4211 - val_loss: 1.5176 - val_accuracy: 0.9167\n",
      "Epoch 56/100\n",
      "1/1 - 0s - loss: 1.7402 - accuracy: 0.4912 - val_loss: 1.4514 - val_accuracy: 0.9167\n",
      "Epoch 57/100\n",
      "1/1 - 0s - loss: 1.6601 - accuracy: 0.5263 - val_loss: 1.3812 - val_accuracy: 1.0000\n",
      "Epoch 58/100\n",
      "1/1 - 0s - loss: 1.5785 - accuracy: 0.5702 - val_loss: 1.3050 - val_accuracy: 1.0000\n",
      "Epoch 59/100\n",
      "1/1 - 0s - loss: 1.6210 - accuracy: 0.5482 - val_loss: 1.2517 - val_accuracy: 1.0000\n",
      "Epoch 60/100\n",
      "1/1 - 0s - loss: 1.4636 - accuracy: 0.5877 - val_loss: 1.2102 - val_accuracy: 0.9167\n",
      "Epoch 61/100\n",
      "1/1 - 0s - loss: 1.4684 - accuracy: 0.5746 - val_loss: 1.1180 - val_accuracy: 0.9167\n",
      "Epoch 62/100\n",
      "1/1 - 0s - loss: 1.3703 - accuracy: 0.6009 - val_loss: 1.0448 - val_accuracy: 1.0000\n",
      "Epoch 63/100\n",
      "1/1 - 0s - loss: 1.2876 - accuracy: 0.6447 - val_loss: 0.9828 - val_accuracy: 1.0000\n",
      "Epoch 64/100\n",
      "1/1 - 0s - loss: 1.1966 - accuracy: 0.6667 - val_loss: 0.9293 - val_accuracy: 1.0000\n",
      "Epoch 65/100\n",
      "1/1 - 0s - loss: 1.2078 - accuracy: 0.6316 - val_loss: 0.8462 - val_accuracy: 1.0000\n",
      "Epoch 66/100\n",
      "1/1 - 0s - loss: 1.0718 - accuracy: 0.7105 - val_loss: 0.7605 - val_accuracy: 1.0000\n",
      "Epoch 67/100\n",
      "1/1 - 0s - loss: 1.0660 - accuracy: 0.6798 - val_loss: 0.7026 - val_accuracy: 1.0000\n",
      "Epoch 68/100\n",
      "1/1 - 0s - loss: 1.1279 - accuracy: 0.6667 - val_loss: 0.6700 - val_accuracy: 0.8333\n",
      "Epoch 69/100\n",
      "1/1 - 0s - loss: 1.0370 - accuracy: 0.7149 - val_loss: 0.6326 - val_accuracy: 0.9167\n",
      "Epoch 70/100\n",
      "1/1 - 0s - loss: 1.0161 - accuracy: 0.6667 - val_loss: 0.5687 - val_accuracy: 0.8333\n",
      "Epoch 71/100\n",
      "1/1 - 0s - loss: 0.8047 - accuracy: 0.7807 - val_loss: 0.5078 - val_accuracy: 1.0000\n",
      "Epoch 72/100\n",
      "1/1 - 0s - loss: 0.9003 - accuracy: 0.7368 - val_loss: 0.4589 - val_accuracy: 1.0000\n",
      "Epoch 73/100\n",
      "1/1 - 0s - loss: 0.7492 - accuracy: 0.7675 - val_loss: 0.4257 - val_accuracy: 1.0000\n",
      "Epoch 74/100\n",
      "1/1 - 0s - loss: 0.8161 - accuracy: 0.7325 - val_loss: 0.3910 - val_accuracy: 1.0000\n",
      "Epoch 75/100\n",
      "1/1 - 0s - loss: 0.7270 - accuracy: 0.7807 - val_loss: 0.3665 - val_accuracy: 1.0000\n",
      "Epoch 76/100\n",
      "1/1 - 0s - loss: 0.7319 - accuracy: 0.7719 - val_loss: 0.3257 - val_accuracy: 1.0000\n",
      "Epoch 77/100\n",
      "1/1 - 0s - loss: 0.6999 - accuracy: 0.8246 - val_loss: 0.2985 - val_accuracy: 1.0000\n",
      "Epoch 78/100\n",
      "1/1 - 0s - loss: 0.6842 - accuracy: 0.7763 - val_loss: 0.2835 - val_accuracy: 1.0000\n",
      "Epoch 79/100\n",
      "1/1 - 0s - loss: 0.6860 - accuracy: 0.7807 - val_loss: 0.2794 - val_accuracy: 1.0000\n",
      "Epoch 80/100\n",
      "1/1 - 0s - loss: 0.5282 - accuracy: 0.8728 - val_loss: 0.2775 - val_accuracy: 0.9167\n",
      "Epoch 81/100\n",
      "1/1 - 0s - loss: 0.5519 - accuracy: 0.8904 - val_loss: 0.2436 - val_accuracy: 1.0000\n",
      "Epoch 82/100\n",
      "1/1 - 0s - loss: 0.4556 - accuracy: 0.8816 - val_loss: 0.2143 - val_accuracy: 1.0000\n",
      "Epoch 83/100\n",
      "1/1 - 0s - loss: 0.4665 - accuracy: 0.8904 - val_loss: 0.1932 - val_accuracy: 1.0000\n"
     ]
    },
    {
     "name": "stdout",
     "output_type": "stream",
     "text": [
      "Epoch 84/100\n",
      "1/1 - 0s - loss: 0.5107 - accuracy: 0.8596 - val_loss: 0.1770 - val_accuracy: 1.0000\n",
      "Epoch 85/100\n",
      "1/1 - 0s - loss: 0.4023 - accuracy: 0.8991 - val_loss: 0.1763 - val_accuracy: 1.0000\n",
      "Epoch 86/100\n",
      "1/1 - 0s - loss: 0.4670 - accuracy: 0.8465 - val_loss: 0.1387 - val_accuracy: 1.0000\n",
      "Epoch 87/100\n",
      "1/1 - 0s - loss: 0.3859 - accuracy: 0.8728 - val_loss: 0.1132 - val_accuracy: 1.0000\n",
      "Epoch 88/100\n",
      "1/1 - 0s - loss: 0.4235 - accuracy: 0.8816 - val_loss: 0.0989 - val_accuracy: 1.0000\n",
      "Epoch 89/100\n",
      "1/1 - 0s - loss: 0.3524 - accuracy: 0.9079 - val_loss: 0.1020 - val_accuracy: 1.0000\n",
      "Epoch 90/100\n",
      "1/1 - 0s - loss: 0.4025 - accuracy: 0.8684 - val_loss: 0.1121 - val_accuracy: 1.0000\n",
      "Epoch 91/100\n",
      "1/1 - 0s - loss: 0.3737 - accuracy: 0.8991 - val_loss: 0.1021 - val_accuracy: 1.0000\n",
      "Epoch 92/100\n",
      "1/1 - 0s - loss: 0.3177 - accuracy: 0.9167 - val_loss: 0.0899 - val_accuracy: 1.0000\n",
      "Epoch 93/100\n",
      "1/1 - 0s - loss: 0.3281 - accuracy: 0.8947 - val_loss: 0.0839 - val_accuracy: 1.0000\n",
      "Epoch 94/100\n",
      "1/1 - 0s - loss: 0.3253 - accuracy: 0.9167 - val_loss: 0.0797 - val_accuracy: 1.0000\n",
      "Epoch 95/100\n",
      "1/1 - 0s - loss: 0.2764 - accuracy: 0.9079 - val_loss: 0.0729 - val_accuracy: 1.0000\n",
      "Epoch 96/100\n",
      "1/1 - 0s - loss: 0.2198 - accuracy: 0.9561 - val_loss: 0.0724 - val_accuracy: 1.0000\n",
      "Epoch 97/100\n",
      "1/1 - 0s - loss: 0.2527 - accuracy: 0.9298 - val_loss: 0.0747 - val_accuracy: 1.0000\n",
      "Epoch 98/100\n",
      "1/1 - 0s - loss: 0.2972 - accuracy: 0.9167 - val_loss: 0.0707 - val_accuracy: 1.0000\n",
      "Epoch 99/100\n",
      "1/1 - 0s - loss: 0.2042 - accuracy: 0.9561 - val_loss: 0.0625 - val_accuracy: 1.0000\n",
      "Epoch 100/100\n",
      "1/1 - 0s - loss: 0.2315 - accuracy: 0.9298 - val_loss: 0.0628 - val_accuracy: 1.0000\n"
     ]
    }
   ],
   "source": [
    "history=cnn_model.fit(\n",
    "    np.array(x_train), np.array(y_train), batch_size=512,\n",
    "    epochs=100, verbose=2,\n",
    "    validation_data=(np.array(x_valid),np.array(y_valid)),\n",
    ")"
   ]
  },
  {
   "cell_type": "code",
   "execution_count": 47,
   "metadata": {},
   "outputs": [
    {
     "name": "stdout",
     "output_type": "stream",
     "text": [
      "test los 0.2582\n",
      "test acc 0.9438\n"
     ]
    }
   ],
   "source": [
    "# Evaluating test data\n",
    "scor = cnn_model.evaluate( np.array(x_test),  np.array(y_test), verbose=0)\n",
    "\n",
    "print('test los {:.4f}'.format(scor[0]))\n",
    "print('test acc {:.4f}'.format(scor[1]))"
   ]
  },
  {
   "cell_type": "markdown",
   "metadata": {},
   "source": [
    "STEP-SEVEN: PLOT RESULTS"
   ]
  },
  {
   "cell_type": "code",
   "execution_count": 48,
   "metadata": {},
   "outputs": [
    {
     "name": "stdout",
     "output_type": "stream",
     "text": [
      "dict_keys(['loss', 'accuracy', 'val_loss', 'val_accuracy'])\n"
     ]
    },
    {
     "data": {
      "image/png": "[encoded data removed]",
      "text/plain": [
       "<Figure size 432x288 with 1 Axes>"
      ]
     },
     "metadata": {
      "needs_background": "light"
     },
     "output_type": "display_data"
    },
    {
     "data": {
      "image/png": "[encoded data removed]",
      "text/plain": [
       "<Figure size 432x288 with 1 Axes>"
      ]
     },
     "metadata": {
      "needs_background": "light"
     },
     "output_type": "display_data"
    }
   ],
   "source": [
    "# list all data in history\n",
    "print(history.history.keys())\n",
    "# summarize history for accuracy\n",
    "plt.plot(history.history['accuracy'])\n",
    "plt.plot(history.history['val_accuracy'])\n",
    "plt.title('model accuracy')\n",
    "plt.ylabel('accuracy')\n",
    "plt.xlabel('epoch')\n",
    "plt.legend(['train', 'test'], loc='upper left')\n",
    "plt.show()\n",
    "# summarize history for loss\n",
    "plt.plot(history.history['loss'])\n",
    "plt.plot(history.history['val_loss'])\n",
    "plt.title('model loss')\n",
    "plt.ylabel('loss')\n",
    "plt.xlabel('epoch')\n",
    "plt.legend(['train', 'test'], loc='upper left')\n",
    "plt.show()"
   ]
  },
  {
   "cell_type": "markdown",
   "metadata": {},
   "source": [
    "STEP-EIGHT: PLOT CONFUSION MATRIX"
   ]
  },
  {
   "cell_type": "code",
   "execution_count": 49,
   "metadata": {},
   "outputs": [
    {
     "name": "stdout",
     "output_type": "stream",
     "text": [
      "accuracy : \n",
      "0.94375\n",
      "Confusion matrix, without normalization\n",
      "[[8 0 0 0 0 0 0 0 0 0 0 0 0 0 0 0 0 0 0 0]\n",
      " [0 8 0 0 0 0 0 0 0 0 0 0 0 0 0 0 0 0 0 0]\n",
      " [0 0 8 0 0 0 0 0 0 0 0 0 0 0 0 0 0 0 0 0]\n",
      " [0 0 1 7 0 0 0 0 0 0 0 0 0 0 0 0 0 0 0 0]\n",
      " [0 0 0 0 6 0 0 0 0 0 0 0 0 0 0 0 0 2 0 0]\n",
      " [0 0 0 0 0 8 0 0 0 0 0 0 0 0 0 0 0 0 0 0]\n",
      " [0 0 0 0 0 0 8 0 0 0 0 0 0 0 0 0 0 0 0 0]\n",
      " [0 0 0 0 0 0 0 8 0 0 0 0 0 0 0 0 0 0 0 0]\n",
      " [0 0 0 0 0 0 0 0 8 0 0 0 0 0 0 0 0 0 0 0]\n",
      " [0 0 0 0 0 0 0 2 0 6 0 0 0 0 0 0 0 0 0 0]\n",
      " [0 0 0 0 0 0 0 0 0 0 8 0 0 0 0 0 0 0 0 0]\n",
      " [0 0 0 0 0 0 0 0 0 0 0 8 0 0 0 0 0 0 0 0]\n",
      " [0 0 0 0 0 0 0 0 0 0 0 0 8 0 0 0 0 0 0 0]\n",
      " [0 0 0 0 0 0 0 0 0 0 0 0 0 8 0 0 0 0 0 0]\n",
      " [0 0 0 0 0 0 0 0 0 0 0 0 0 0 8 0 0 0 0 0]\n",
      " [2 0 0 0 0 0 0 0 0 0 0 0 0 0 0 6 0 0 0 0]\n",
      " [0 0 0 0 0 0 0 0 0 0 0 0 0 0 0 0 8 0 0 0]\n",
      " [0 0 0 0 0 0 0 0 0 0 0 0 0 0 0 0 0 8 0 0]\n",
      " [0 0 0 0 0 0 0 1 0 0 1 0 0 0 0 0 0 0 6 0]\n",
      " [0 0 0 0 0 0 0 0 0 0 0 0 0 0 0 0 0 0 0 8]]\n",
      "Confusion matrix, without normalization\n"
     ]
    },
    {
     "data": {
      "image/png": "[encoded data removed]",
      "text/plain": [
       "<Figure size 432x288 with 2 Axes>"
      ]
     },
     "metadata": {
      "needs_background": "light"
     },
     "output_type": "display_data"
    },
    {
     "name": "stdout",
     "output_type": "stream",
     "text": [
      "Confusion matrix, without normalization\n"
     ]
    },
    {
     "data": {
      "image/png": "[encoded data removed]",
      "text/plain": [
       "<Figure size 432x288 with 2 Axes>"
      ]
     },
     "metadata": {
      "needs_background": "light"
     },
     "output_type": "display_data"
    },
    {
     "name": "stdout",
     "output_type": "stream",
     "text": [
      "Confusion matrix:\n",
      "[[8 0 0 0 0 0 0 0 0 0 0 0 0 0 0 0 0 0 0 0]\n",
      " [0 8 0 0 0 0 0 0 0 0 0 0 0 0 0 0 0 0 0 0]\n",
      " [0 0 8 0 0 0 0 0 0 0 0 0 0 0 0 0 0 0 0 0]\n",
      " [0 0 1 7 0 0 0 0 0 0 0 0 0 0 0 0 0 0 0 0]\n",
      " [0 0 0 0 6 0 0 0 0 0 0 0 0 0 0 0 0 2 0 0]\n",
      " [0 0 0 0 0 8 0 0 0 0 0 0 0 0 0 0 0 0 0 0]\n",
      " [0 0 0 0 0 0 8 0 0 0 0 0 0 0 0 0 0 0 0 0]\n",
      " [0 0 0 0 0 0 0 8 0 0 0 0 0 0 0 0 0 0 0 0]\n",
      " [0 0 0 0 0 0 0 0 8 0 0 0 0 0 0 0 0 0 0 0]\n",
      " [0 0 0 0 0 0 0 2 0 6 0 0 0 0 0 0 0 0 0 0]\n",
      " [0 0 0 0 0 0 0 0 0 0 8 0 0 0 0 0 0 0 0 0]\n",
      " [0 0 0 0 0 0 0 0 0 0 0 8 0 0 0 0 0 0 0 0]\n",
      " [0 0 0 0 0 0 0 0 0 0 0 0 8 0 0 0 0 0 0 0]\n",
      " [0 0 0 0 0 0 0 0 0 0 0 0 0 8 0 0 0 0 0 0]\n",
      " [0 0 0 0 0 0 0 0 0 0 0 0 0 0 8 0 0 0 0 0]\n",
      " [2 0 0 0 0 0 0 0 0 0 0 0 0 0 0 6 0 0 0 0]\n",
      " [0 0 0 0 0 0 0 0 0 0 0 0 0 0 0 0 8 0 0 0]\n",
      " [0 0 0 0 0 0 0 0 0 0 0 0 0 0 0 0 0 8 0 0]\n",
      " [0 0 0 0 0 0 0 1 0 0 1 0 0 0 0 0 0 0 6 0]\n",
      " [0 0 0 0 0 0 0 0 0 0 0 0 0 0 0 0 0 0 0 8]]\n",
      "              precision    recall  f1-score   support\n",
      "\n",
      "           0       0.80      1.00      0.89         8\n",
      "           1       1.00      1.00      1.00         8\n",
      "           2       0.89      1.00      0.94         8\n",
      "           3       1.00      0.88      0.93         8\n",
      "           4       1.00      0.75      0.86         8\n",
      "           5       1.00      1.00      1.00         8\n",
      "           6       1.00      1.00      1.00         8\n",
      "           7       0.73      1.00      0.84         8\n",
      "           8       1.00      1.00      1.00         8\n",
      "           9       1.00      0.75      0.86         8\n",
      "          10       0.89      1.00      0.94         8\n",
      "          11       1.00      1.00      1.00         8\n",
      "          12       1.00      1.00      1.00         8\n",
      "          13       1.00      1.00      1.00         8\n",
      "          14       1.00      1.00      1.00         8\n",
      "          15       1.00      0.75      0.86         8\n",
      "          16       1.00      1.00      1.00         8\n",
      "          17       0.80      1.00      0.89         8\n",
      "          18       1.00      0.75      0.86         8\n",
      "          19       1.00      1.00      1.00         8\n",
      "\n",
      "    accuracy                           0.94       160\n",
      "   macro avg       0.96      0.94      0.94       160\n",
      "weighted avg       0.96      0.94      0.94       160\n",
      "\n"
     ]
    }
   ],
   "source": [
    "predicted =np.array( cnn_model.predict(x_test))\n",
    "#print(predicted)\n",
    "#print(y_test)\n",
    "ynew = cnn_model.predict_classes(x_test)\n",
    "\n",
    "\n",
    "Acc=accuracy_score(y_test, ynew)\n",
    "print(\"accuracy : \")\n",
    "print(Acc)\n",
    "#/tn, fp, fn, tp = confusion_matrix(np.array(y_test), ynew).ravel()\n",
    "cnf_matrix=confusion_matrix(np.array(y_test), ynew)\n",
    "\n",
    "y_test1 = np_utils.to_categorical(y_test, 20)\n",
    "\n",
    "\n",
    "\n",
    "def plot_confusion_matrix(cm, classes,\n",
    "                          normalize=False,\n",
    "                          title='Confusion matrix',\n",
    "                          cmap=plt.cm.Blues):\n",
    "    \"\"\"\n",
    "    This function prints and plots the confusion matrix.\n",
    "    Normalization can be applied by setting `normalize=True`.\n",
    "    \"\"\"\n",
    "    if normalize:\n",
    "        cm = cm.astype('float') / cm.sum(axis=1)[:, np.newaxis]\n",
    "        #print(\"Normalized confusion matrix\")\n",
    "    else:\n",
    "        print('Confusion matrix, without normalization')\n",
    "\n",
    "    #print(cm)\n",
    "    plt.imshow(cm, interpolation='nearest', cmap=cmap)\n",
    "    plt.title(title)\n",
    "    plt.colorbar()\n",
    "    tick_marks = np.arange(len(classes))\n",
    "    plt.xticks(tick_marks, classes, rotation=45)\n",
    "    plt.yticks(tick_marks, classes)\n",
    "\n",
    "    fmt = '.2f' if normalize else 'd'\n",
    "    thresh = cm.max() / 2.\n",
    "    for i, j in itertools.product(range(cm.shape[0]), range(cm.shape[1])):\n",
    "        plt.text(j, i, format(cm[i, j], fmt),\n",
    "                 horizontalalignment=\"center\",\n",
    "                 color=\"white\" if cm[i, j] > thresh else \"black\")\n",
    "\n",
    "    plt.tight_layout()\n",
    "    plt.ylabel('True label')\n",
    "    plt.xlabel('Predicted label')\n",
    "    plt.show()\n",
    "\n",
    "\n",
    "print('Confusion matrix, without normalization')\n",
    "print(cnf_matrix)\n",
    "\n",
    "plt.figure()\n",
    "plot_confusion_matrix(cnf_matrix[1:10,1:10], classes=[0,1,2,3,4,5,6,7,8,9],\n",
    "                      title='Confusion matrix, without normalization')\n",
    "\n",
    "plt.figure()\n",
    "plot_confusion_matrix(cnf_matrix[11:20,11:20], classes=[10,11,12,13,14,15,16,17,18,19],\n",
    "                      title='Confusion matrix, without normalization')\n",
    "\n",
    "print(\"Confusion matrix:\\n%s\" % confusion_matrix(np.array(y_test), ynew))\n",
    "print(classification_report(np.array(y_test), ynew))"
   ]
  },
  {
   "cell_type": "code",
   "execution_count": 50,
   "metadata": {},
   "outputs": [
    {
     "name": "stdout",
     "output_type": "stream",
     "text": [
      "[name: \"/device:CPU:0\"\n",
      "device_type: \"CPU\"\n",
      "memory_limit: 268435456\n",
      "locality {\n",
      "}\n",
      "incarnation: 11345426568331891143\n",
      ", name: \"/device:XLA_CPU:0\"\n",
      "device_type: \"XLA_CPU\"\n",
      "memory_limit: 17179869184\n",
      "locality {\n",
      "}\n",
      "incarnation: 5518883396927135773\n",
      "physical_device_desc: \"device: XLA_CPU device\"\n",
      ", name: \"/device:XLA_GPU:0\"\n",
      "device_type: \"XLA_GPU\"\n",
      "memory_limit: 17179869184\n",
      "locality {\n",
      "}\n",
      "incarnation: 12132059296064265672\n",
      "physical_device_desc: \"device: XLA_GPU device\"\n",
      "]\n"
     ]
    }
   ],
   "source": [
    "# CPU/GPU\n",
    "from tensorflow.python.client import device_lib\n",
    "print(device_lib.list_local_devices())"
   ]
  },
  {
   "cell_type": "code",
   "execution_count": null,
   "metadata": {},
   "outputs": [],
   "source": []
  }
 ],
 "metadata": {
  "kernelspec": {
   "display_name": "Python 3",
   "language": "python",
   "name": "python3"
  },
  "language_info": {
   "codemirror_mode": {
    "name": "ipython",
    "version": 3
   },
   "file_extension": ".py",
   "mimetype": "text/x-python",
   "name": "python",
   "nbconvert_exporter": "python",
   "pygments_lexer": "ipython3",
   "version": "3.8.3"
  }
 },
 "nbformat": 4,
 "nbformat_minor": 4
}
